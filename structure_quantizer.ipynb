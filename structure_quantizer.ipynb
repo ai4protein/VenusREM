{
 "cells": [
  {
   "cell_type": "code",
   "execution_count": 1,
   "metadata": {},
   "outputs": [
    {
     "name": "stderr",
     "output_type": "stream",
     "text": [
      "/home/tanyang/miniconda3/envs/protssn/lib/python3.10/site-packages/tqdm/auto.py:21: TqdmWarning: IProgress not found. Please update jupyter and ipywidgets. See https://ipywidgets.readthedocs.io/en/stable/user_install.html\n",
      "  from .autonotebook import tqdm as notebook_tqdm\n",
      "/home/tanyang/workspace/ProSST-R/src/structure/quantizer.py:515: FutureWarning: You are using `torch.load` with `weights_only=False` (the current default value), which uses the default pickle module implicitly. It is possible to construct malicious pickle data which will execute arbitrary code during unpickling (See https://github.com/pytorch/pytorch/blob/main/SECURITY.md#untrusted-models for more details). In a future release, the default value for `weights_only` will be flipped to `True`. This limits the functions that could be executed during unpickling. Arbitrary objects will no longer be allowed to be loaded via this mode unless they are explicitly allowlisted by the user via `torch.serialization.add_safe_globals`. We recommend you start setting `weights_only=True` for any use case where you don't have full control of the loaded file. Please open an issue on GitHub for any issues related to this experimental feature.\n",
      "  model.load_state_dict(torch.load(self.model_path))\n",
      "/home/tanyang/workspace/ProSST-R/src/structure/quantizer.py:61: UserWarning: Using torch.cross without specifying the dim arg is deprecated.\n",
      "Please either pass the dim explicitly or simply use torch.linalg.cross.\n",
      "The default value of dim will change to agree with that of linalg.cross in a future release. (Triggered internally at /opt/conda/conda-bld/pytorch_1724789115765/work/aten/src/ATen/native/Cross.cpp:62.)\n",
      "  perp = _normalize(torch.cross(c, n))\n",
      "/home/tanyang/miniconda3/envs/protssn/lib/python3.10/site-packages/sklearn/base.py:376: InconsistentVersionWarning: Trying to unpickle estimator KMeans from version 1.2.2 when using version 1.5.2. This might lead to breaking code or invalid results. Use at your own risk. For more info please refer to:\n",
      "https://scikit-learn.org/stable/model_persistence.html#security-maintainability-limitations\n",
      "  warnings.warn(\n"
     ]
    }
   ],
   "source": [
    "from src.structure.quantizer import PdbQuantizer\n",
    "processor = PdbQuantizer(structure_vocab_size=2048) # can be 20, 128, 512, 1024, 2048, 4096\n",
    "result = processor(\"data/example_pdb/p1.pdb\", return_residue_seq=False)"
   ]
  },
  {
   "cell_type": "code",
   "execution_count": 2,
   "metadata": {},
   "outputs": [
    {
     "data": {
      "text/plain": [
       "[407,\n",
       " 998,\n",
       " 1841,\n",
       " 1421,\n",
       " 653,\n",
       " 450,\n",
       " 117,\n",
       " 822,\n",
       " 1082,\n",
       " 70,\n",
       " 1924,\n",
       " 1559,\n",
       " 1831,\n",
       " 370,\n",
       " 968,\n",
       " 1508,\n",
       " 524,\n",
       " 1766,\n",
       " 1490,\n",
       " 793,\n",
       " 1079,\n",
       " 1079,\n",
       " 531,\n",
       " 257,\n",
       " 225,\n",
       " 300,\n",
       " 15,\n",
       " 13,\n",
       " 677,\n",
       " 381,\n",
       " 417,\n",
       " 302,\n",
       " 1999,\n",
       " 139,\n",
       " 186,\n",
       " 598,\n",
       " 598,\n",
       " 186,\n",
       " 1242,\n",
       " 186,\n",
       " 826,\n",
       " 68,\n",
       " 508,\n",
       " 1788,\n",
       " 1421,\n",
       " 676,\n",
       " 1696,\n",
       " 944,\n",
       " 407,\n",
       " 709,\n",
       " 736,\n",
       " 511,\n",
       " 689,\n",
       " 1843,\n",
       " 743,\n",
       " 43,\n",
       " 643,\n",
       " 1440,\n",
       " 12,\n",
       " 2020,\n",
       " 1976,\n",
       " 1214,\n",
       " 1973,\n",
       " 1509,\n",
       " 1174,\n",
       " 709,\n",
       " 1129,\n",
       " 923,\n",
       " 1082,\n",
       " 1484,\n",
       " 1182,\n",
       " 844,\n",
       " 521,\n",
       " 521,\n",
       " 1841]"
      ]
     },
     "execution_count": 2,
     "metadata": {},
     "output_type": "execute_result"
    }
   ],
   "source": [
    "result"
   ]
  }
 ],
 "metadata": {
  "kernelspec": {
   "display_name": "protssn",
   "language": "python",
   "name": "python3"
  },
  "language_info": {
   "codemirror_mode": {
    "name": "ipython",
    "version": 3
   },
   "file_extension": ".py",
   "mimetype": "text/x-python",
   "name": "python",
   "nbconvert_exporter": "python",
   "pygments_lexer": "ipython3",
   "version": "3.10.14"
  }
 },
 "nbformat": 4,
 "nbformat_minor": 2
}
